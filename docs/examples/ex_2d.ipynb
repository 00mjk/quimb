{
 "cells": [
  {
   "cell_type": "markdown",
   "metadata": {},
   "source": [
    "2D Antiferromagnetic Model Example\n",
    "========"
   ]
  },
  {
   "cell_type": "markdown",
   "metadata": {},
   "source": [
    "This is an example of how ``ikron`` can be used to deal with a large, ``ndim > 1``, Hilbert space.\n",
    "We'll define a simpler version of ``ham_heis_2D`` first:"
   ]
  },
  {
   "cell_type": "code",
   "execution_count": 1,
   "metadata": {},
   "outputs": [],
   "source": [
    "import itertools\n",
    "from operator import add\n",
    "import numpy as np\n",
    "from quimb import *\n",
    "\n",
    "def ham_heis_2D(n, m, j=1.0, bz=0.0, cyclic=False,\n",
    "                sparse=True):\n",
    "    \n",
    "    dims = [[2] * m] * n  # shape (n, m)\n",
    "    \n",
    "    # generate tuple of all site coordinates\n",
    "    sites = tuple(itertools.product(range(n), range(m)))\n",
    "    \n",
    "    # generate neighbouring pairs of coordinates\n",
    "    def gen_pairs():\n",
    "        for i, j, in sites:\n",
    "            above, right = (i + 1) % n, (j + 1) % m\n",
    "            # ignore wraparound coordinates if not cyclic\n",
    "            if cyclic or above != 0:\n",
    "                yield ((i, j), (above, j))\n",
    "            if cyclic or right != 0:\n",
    "                yield ((i, j), (i, right))\n",
    "    \n",
    "    # generate all pairs of coordinates and directions\n",
    "    pairs_ss = tuple(itertools.product(gen_pairs(), 'xyz'))\n",
    "    \n",
    "    # make XX, YY and ZZ interaction from pair_s\n",
    "    #     e.g. arg ([(3, 4), (3, 5)], 'z')\n",
    "    def interactions(pair_s):\n",
    "        pair, s = pair_s\n",
    "        Sxyz = spin_operator(s, sparse=True)\n",
    "        return ikron(j * Sxyz, dims, inds=pair)\n",
    "        \n",
    "    # function to make Z field at ``site``\n",
    "    def fields(site):\n",
    "        Sz = spin_operator('z', sparse=True)\n",
    "        return ikron(bz * Sz, dims, inds=[site])\n",
    "                \n",
    "    # combine all terms\n",
    "    all_terms = itertools.chain(map(interactions, pairs_ss), \n",
    "                                map(fields, sites) if bz != 0.0 else ())\n",
    "    H = sum(all_terms)\n",
    "\n",
    "    # can improve speed of e.g. eigensolving if known to be real\n",
    "    if isreal(H):\n",
    "        H = H.real\n",
    "    \n",
    "    if not sparse:\n",
    "        H = qarray(H.A)\n",
    "        \n",
    "    return H"
   ]
  },
  {
   "cell_type": "markdown",
   "metadata": {},
   "source": [
    "Note that in general, for 1D or flat problems, ``dims`` is just the list of subsystem hilbert space sizes and indices are just specified as single integers. For 2D+ problems ``dims`` should be nested lists, or equivalently, an array of shape ``(n, m, ...)``, with coordinates specifying subsystems then given as ``inds=[(i1, j1, ...), (i2, j2, ...), ...]``.\n",
    "\n",
    "We can now set up our parameters and generate the hamiltonian:"
   ]
  },
  {
   "cell_type": "code",
   "execution_count": 2,
   "metadata": {},
   "outputs": [
    {
     "name": "stdout",
     "output_type": "stream",
     "text": [
      "[2, 2, 2, 2, 2]\n",
      "[2, 2, 2, 2, 2]\n",
      "[2, 2, 2, 2, 2]\n",
      "[2, 2, 2, 2, 2]\n"
     ]
    }
   ],
   "source": [
    "n, m = 4, 5\n",
    "dims = [[2] * m] * n\n",
    "\n",
    "for row in dims:\n",
    "    print(row)"
   ]
  },
  {
   "cell_type": "code",
   "execution_count": 3,
   "metadata": {},
   "outputs": [],
   "source": [
    "H = ham_heis_2D(n, m, cyclic=False)"
   ]
  },
  {
   "cell_type": "markdown",
   "metadata": {},
   "source": [
    "Let's also break the symmetry, so that we get a nice alternating pattern, by adding a small field on the site ``(1, 2)``:"
   ]
  },
  {
   "cell_type": "code",
   "execution_count": 4,
   "metadata": {},
   "outputs": [],
   "source": [
    "H = H + 0.2 * ikron(spin_operator('Z', sparse=True), dims, [(1, 2)])"
   ]
  },
  {
   "cell_type": "markdown",
   "metadata": {},
   "source": [
    "Note that ``ikron`` automatically performs a sparse kronecker product when given a sparse operator(s).\n",
    "\n",
    "Next we find its ground state and energy, which should be reasonably quick for 20 qubits\n",
    "(we could also make use of symmetries here to project the hamiltonian first):"
   ]
  },
  {
   "cell_type": "code",
   "execution_count": 5,
   "metadata": {},
   "outputs": [
    {
     "name": "stdout",
     "output_type": "stream",
     "text": [
      "CPU times: user 708 ms, sys: 1.04 s, total: 1.75 s\n",
      "Wall time: 11.6 s\n"
     ]
    }
   ],
   "source": [
    "%time ge, gs = eigh(H, k=1)"
   ]
  },
  {
   "cell_type": "markdown",
   "metadata": {},
   "source": [
    "Giving us energy:"
   ]
  },
  {
   "cell_type": "code",
   "execution_count": 6,
   "metadata": {},
   "outputs": [
    {
     "data": {
      "text/plain": [
       "-11.66157392979066"
      ]
     },
     "execution_count": 6,
     "metadata": {},
     "output_type": "execute_result"
    }
   ],
   "source": [
    "ge[0]"
   ]
  },
  {
   "cell_type": "markdown",
   "metadata": {},
   "source": [
    "Now let's compute the magnetization at each site.\n",
    "First we construct the Z spin operators:"
   ]
  },
  {
   "cell_type": "code",
   "execution_count": 7,
   "metadata": {},
   "outputs": [],
   "source": [
    "Sz = spin_operator('Z', stype='coo')\n",
    "Sz_ij = [[ikron(Sz, dims, [(i, j)]) \n",
    "          for j in range(m)] \n",
    "         for i in range(n)]"
   ]
  },
  {
   "cell_type": "markdown",
   "metadata": {},
   "source": [
    "Then we compute the expectation of each at each site:"
   ]
  },
  {
   "cell_type": "code",
   "execution_count": 8,
   "metadata": {},
   "outputs": [
    {
     "data": {
      "text/plain": [
       "<matplotlib.colorbar.Colorbar at 0x7fbf7adc3c88>"
      ]
     },
     "execution_count": 8,
     "metadata": {},
     "output_type": "execute_result"
    },
    {
     "data": {
      "image/png": "[encoded data removed]",
      "text/plain": [
       "<Figure size 432x288 with 2 Axes>"
      ]
     },
     "metadata": {
      "needs_background": "light"
     },
     "output_type": "display_data"
    }
   ],
   "source": [
    "m_ij = [[expec(Sz_ij[i][j], gs) \n",
    "         for j in range(m)] \n",
    "        for i in range(n)]\n",
    "\n",
    "%matplotlib inline\n",
    "import matplotlib.pyplot as plt\n",
    "\n",
    "plt.imshow(m_ij)\n",
    "plt.colorbar()"
   ]
  },
  {
   "cell_type": "markdown",
   "metadata": {},
   "source": [
    "Which looks pretty much as expected.\n",
    "\n",
    "Alternatively to using global operators, we could also use ``partial_trace`` to look at the state of a few qubits. For example, let's find the correlations between the spin we added the small field to, and every other spin.\n",
    "\n",
    "Find the reduced density matrices first:"
   ]
  },
  {
   "cell_type": "code",
   "execution_count": 9,
   "metadata": {},
   "outputs": [],
   "source": [
    "target = (1, 2)\n",
    "\n",
    "rho_ab_ij = [[partial_trace(gs, dims=dims, keep=[target, (i, j)])\n",
    "              for j in range(m)]\n",
    "             for i in range(n)]"
   ]
  },
  {
   "cell_type": "markdown",
   "metadata": {},
   "source": [
    "Since one density matrix is just the spin itself, let's purify it when we come across it, meaning we'll find its total entanglement with it's environment:"
   ]
  },
  {
   "cell_type": "code",
   "execution_count": 10,
   "metadata": {},
   "outputs": [
    {
     "data": {
      "text/plain": [
       "<matplotlib.colorbar.Colorbar at 0x7fbf7acb0c50>"
      ]
     },
     "execution_count": 10,
     "metadata": {},
     "output_type": "execute_result"
    },
    {
     "data": {
      "image/png": "[encoded data removed]",
      "text/plain": [
       "<Figure size 432x288 with 2 Axes>"
      ]
     },
     "metadata": {
      "needs_background": "light"
     },
     "output_type": "display_data"
    }
   ],
   "source": [
    "mi_ij = [[mutinf(rho_ab_ij[i][j] if (i, j) != target else \n",
    "                 purify(rho_ab_ij[i][j]))\n",
    "          for j in range(m)]\n",
    "         for i in range(n)]\n",
    "\n",
    "plt.imshow(mi_ij)\n",
    "plt.colorbar()"
   ]
  },
  {
   "cell_type": "markdown",
   "metadata": {},
   "source": [
    "One could also compute: ``concurrence``, ``logneg``, ``quantum_discord``, ``correlation`` ...\n",
    "\n",
    "For example we could set up the y-correlation function:"
   ]
  },
  {
   "cell_type": "code",
   "execution_count": 11,
   "metadata": {},
   "outputs": [],
   "source": [
    "Sy = spin_operator('y')\n",
    "z_corr = correlation(None, Sy, Sy, 0, 1, dims=[2, 2], precomp_func=True)"
   ]
  },
  {
   "cell_type": "markdown",
   "metadata": {},
   "source": [
    "And compute the correlations:"
   ]
  },
  {
   "cell_type": "code",
   "execution_count": 12,
   "metadata": {},
   "outputs": [
    {
     "data": {
      "text/plain": [
       "<matplotlib.colorbar.Colorbar at 0x7fbf7a90f9e8>"
      ]
     },
     "execution_count": 12,
     "metadata": {},
     "output_type": "execute_result"
    },
    {
     "data": {
      "image/png": "[encoded data removed]",
      "text/plain": [
       "<Figure size 432x288 with 2 Axes>"
      ]
     },
     "metadata": {
      "needs_background": "light"
     },
     "output_type": "display_data"
    }
   ],
   "source": [
    "cy_ij = [[z_corr(rho_ab_ij[i][j] if (i, j) != target else \n",
    "                 purify(rho_ab_ij[i][j]))\n",
    "          for j in range(m)]\n",
    "         for i in range(n)]\n",
    "\n",
    "plt.imshow(cy_ij)\n",
    "plt.colorbar()"
   ]
  }
 ],
 "metadata": {
  "kernelspec": {
   "display_name": "Python 3",
   "language": "python",
   "name": "python3"
  },
  "language_info": {
   "codemirror_mode": {
    "name": "ipython",
    "version": 3
   },
   "file_extension": ".py",
   "mimetype": "text/x-python",
   "name": "python",
   "nbconvert_exporter": "python",
   "pygments_lexer": "ipython3",
   "version": "3.6.6"
  }
 },
 "nbformat": 4,
 "nbformat_minor": 2
}
