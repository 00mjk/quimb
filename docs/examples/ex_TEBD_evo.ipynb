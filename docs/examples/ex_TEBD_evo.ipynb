{
 "cells": [
  {
   "cell_type": "raw",
   "metadata": {
    "raw_mimetype": "text/restructuredtext"
   },
   "source": [
    "TEBD example\n",
    "============\n",
    "\n",
    "This example demonstrates use of the :class:`~quimb.tensor.tensor_tebd.TEBD` object to simulate the time evolution of matrix product states."
   ]
  },
  {
   "cell_type": "code",
   "execution_count": 1,
   "metadata": {},
   "outputs": [],
   "source": [
    "%matplotlib inline\n",
    "import quimb as qu\n",
    "import quimb.tensor as qtn\n",
    "import numpy as np"
   ]
  },
  {
   "cell_type": "markdown",
   "metadata": {},
   "source": [
    "To address an interesting and practical case (entanglement doesn't grow too much) we'll use as\n",
    "an initial state the all zero state apart from two flipped spins:"
   ]
  },
  {
   "cell_type": "code",
   "execution_count": 2,
   "metadata": {},
   "outputs": [
    {
     "name": "stdout",
     "output_type": "stream",
     "text": [
      "psi0: |00000000000000100000000000000100000000000000>\n"
     ]
    }
   ],
   "source": [
    "L = 44\n",
    "zeros = '0' * ((L - 2) // 3)\n",
    "binary = zeros + '1' + zeros + '1' + zeros\n",
    "print('psi0:', \"|{}>\".format(binary))"
   ]
  },
  {
   "cell_type": "raw",
   "metadata": {
    "raw_mimetype": "text/restructuredtext"
   },
   "source": [
    "We can turn this into a :class:`~quimb.tensor.tensor_1d.MatrixProductState` using \n",
    ":func:`~quimb.tensor.tensor_gen.MPS_computational_state`:"
   ]
  },
  {
   "cell_type": "code",
   "execution_count": 3,
   "metadata": {},
   "outputs": [
    {
     "name": "stdout",
     "output_type": "stream",
     "text": [
      " 1 1 1 1 1 1 1 1 1 1 1 1 1 1 1 1 1 1 1 1 1 1 1 1 1 1 1 1 1 1 1 1 1 1 1 1 1 1 1 1 1 1 1 \n",
      ">->->->->->->->->->->->->->->->->->->->->->->->->->->->->->->->->->->->->->->->->->->-<\n",
      "| | | | | | | | | | | | | | | | | | | | | | | | | | | | | | | | | | | | | | | | | | | |\n"
     ]
    }
   ],
   "source": [
    "psi0 = qtn.MPS_computational_state(binary)\n",
    "psi0.show()  # prints ascii representation of state"
   ]
  },
  {
   "cell_type": "markdown",
   "metadata": {},
   "source": [
    "To set the hamiltonian, we just need to define the effective two-site interaction hamiltonian.\n",
    "For the Heisenberg hamiltonian with no magnetic field, this is just the following:"
   ]
  },
  {
   "cell_type": "code",
   "execution_count": 4,
   "metadata": {},
   "outputs": [
    {
     "data": {
      "text/plain": [
       "matrix([[ 0.25,  0.  ,  0.  ,  0.  ],\n",
       "        [ 0.  , -0.25,  0.5 ,  0.  ],\n",
       "        [ 0.  ,  0.5 , -0.25,  0.  ],\n",
       "        [ 0.  ,  0.  ,  0.  ,  0.25]])"
      ]
     },
     "execution_count": 4,
     "metadata": {},
     "output_type": "execute_result"
    }
   ],
   "source": [
    "H_int = qu.ham_heis(n=2, cyclic=False)\n",
    "H_int"
   ]
  },
  {
   "cell_type": "raw",
   "metadata": {
    "raw_mimetype": "text/restructuredtext"
   },
   "source": [
    "Now we are ready to set-up the actual :class:`~quimb.tensor.tensor_tebd.TEBD` object, \n",
    "which trys to mimic the api of the normal :class:`~quimb.evo.Evolution` object.\n",
    "\n",
    "We could set a default timestep ``dt`` here, or instead, a default tolerance ``tol``,\n",
    "which calculates ``dt`` automatically based on the total evolution length, trotter\n",
    "decomposition order, and hamiltonian norm."
   ]
  },
  {
   "cell_type": "code",
   "execution_count": 5,
   "metadata": {},
   "outputs": [],
   "source": [
    "tebd = qtn.TEBD(psi0, H_int)\n",
    "\n",
    "# Since entanglement will not grow too much, we can set quite\n",
    "#     a small cutoff for splitting after each gate application\n",
    "tebd.split_opts['cutoff'] = 1e-14"
   ]
  },
  {
   "cell_type": "markdown",
   "metadata": {},
   "source": [
    "We'll also set up some parameters and quantities to compute during the evolution:"
   ]
  },
  {
   "cell_type": "code",
   "execution_count": 6,
   "metadata": {},
   "outputs": [],
   "source": [
    "# times we are interested in\n",
    "ts = np.linspace(0, 80, 101)\n",
    "\n",
    "mz_t_j = []  # z-magnetization\n",
    "be_t_b = []  # block entropy\n",
    "sg_t_b = []  # schmidt gap\n",
    "\n",
    "# range of bonds, and sites\n",
    "js = np.arange(0, L)\n",
    "bs = np.arange(1, L)"
   ]
  },
  {
   "cell_type": "markdown",
   "metadata": {},
   "source": [
    "Now we are ready to being the evolution, we use the generator \n",
    "``at_times`` to yield the state at each target time, and set\n",
    "a ``tol`` here which will calculate a timestep to use.\n",
    "At each time, we'll compute the desired quantities and add them\n",
    "to our results."
   ]
  },
  {
   "cell_type": "code",
   "execution_count": 7,
   "metadata": {},
   "outputs": [
    {
     "name": "stderr",
     "output_type": "stream",
     "text": [
      "t=80, max-bond=19: 100%|██████████| 101/101 [02:23<00:00,  1.42s/it]  \n"
     ]
    }
   ],
   "source": [
    "# generate the state at each time in ts\n",
    "#     and target error 1e-3 for whole evolution\n",
    "for psit in tebd.at_times(ts, tol=1e-3):\n",
    "    mz_j = []\n",
    "    be_b = []\n",
    "    sg_b = []\n",
    "    \n",
    "    # there is one more site than bond, so start with mag\n",
    "    #     this also sets the orthog center to 0\n",
    "    mz_j += [psit.magnetization(0)]\n",
    "    \n",
    "    for j in range(1, L):\n",
    "        # after which we only need to move it from previous site\n",
    "        mz_j += [psit.magnetization(j, current_orthog_centre=j - 1)]\n",
    "        be_b += [psit.entropy(j, current_orthog_centre=j)]\n",
    "        sg_b += [psit.schmidt_gap(j, current_orthog_centre=j)]\n",
    "        \n",
    "    mz_t_j += [mz_j]\n",
    "    be_t_b += [be_b]\n",
    "    sg_t_b += [sg_b]"
   ]
  },
  {
   "cell_type": "code",
   "execution_count": 8,
   "metadata": {},
   "outputs": [
    {
     "name": "stdout",
     "output_type": "stream",
     "text": [
      " 2 4 5 6 7 8 9 10 11 12 13 14 15 16 17 17 18 18 18 18 18 19 18 18 18 18 18 17 17 16 15 14 13 12 11 10 9 8 7 6 5 4 2 \n",
      ">->->->->->->->-->-->-->-->-->-->-->-->-->-->-->-->-->-->-->-->-->-->-->-->-->-->-->-->-->-->-->-->-->->->->->->->-o\n",
      "| | | | | | | |  |  |  |  |  |  |  |  |  |  |  |  |  |  |  |  |  |  |  |  |  |  |  |  |  |  |  |  |  | | | | | | | |\n"
     ]
    }
   ],
   "source": [
    "tebd.pt.show()"
   ]
  },
  {
   "cell_type": "markdown",
   "metadata": {},
   "source": [
    "``TEBD.err`` contains a (rough) upper estimate for the error \n",
    "incurred by the trotter decomposition so far:"
   ]
  },
  {
   "cell_type": "code",
   "execution_count": 9,
   "metadata": {},
   "outputs": [
    {
     "data": {
      "text/plain": [
       "0.0009938931328611381"
      ]
     },
     "execution_count": 9,
     "metadata": {},
     "output_type": "execute_result"
    }
   ],
   "source": [
    "tebd.err  #  should be < tol=1e-3"
   ]
  },
  {
   "cell_type": "markdown",
   "metadata": {},
   "source": [
    "We can also check the normalization of final state:"
   ]
  },
  {
   "cell_type": "code",
   "execution_count": 10,
   "metadata": {},
   "outputs": [
    {
     "data": {
      "text/plain": [
       "1.0000000000233802"
      ]
     },
     "execution_count": 10,
     "metadata": {},
     "output_type": "execute_result"
    }
   ],
   "source": [
    "tebd.pt.H @ tebd.pt"
   ]
  },
  {
   "cell_type": "markdown",
   "metadata": {},
   "source": [
    "And that energy has been conserved:"
   ]
  },
  {
   "cell_type": "code",
   "execution_count": 11,
   "metadata": {},
   "outputs": [
    {
     "name": "stdout",
     "output_type": "stream",
     "text": [
      "Initial energy: 8.75\n",
      "Final energy: 8.750002302548694\n"
     ]
    }
   ],
   "source": [
    "H = qtn.MPO_ham_heis(L)\n",
    "print(\"Initial energy:\", qtn.expec_TN_1D(psi0.H, H, psi0))\n",
    "print(\"Final energy:\", qtn.expec_TN_1D(tebd.pt.H , H, tebd.pt))"
   ]
  },
  {
   "cell_type": "markdown",
   "metadata": {},
   "source": [
    "Finally let's plot the quantities we calculated:"
   ]
  },
  {
   "cell_type": "code",
   "execution_count": 12,
   "metadata": {},
   "outputs": [],
   "source": [
    "import matplotlib.pyplot as plt"
   ]
  },
  {
   "cell_type": "code",
   "execution_count": 13,
   "metadata": {},
   "outputs": [
    {
     "data": {
      "image/png": "[encoded data removed]",
      "text/plain": [
       "<Figure size 864x504 with 6 Axes>"
      ]
     },
     "metadata": {},
     "output_type": "display_data"
    }
   ],
   "source": [
    "plt.figure(figsize=(12, 7))\n",
    "\n",
    "# plot the magnetization\n",
    "ax1 = plt.subplot('131')\n",
    "plt.pcolormesh(js, ts, mz_t_j, vmin=-0.5, vmax=0.5)\n",
    "plt.set_cmap('RdYlBu')\n",
    "plt.colorbar()\n",
    "plt.title('Z-Magnetization')\n",
    "plt.xlabel('Site')\n",
    "plt.ylabel('time [ $Jt$ ]')\n",
    "\n",
    "# plot the entropy\n",
    "ax2 = plt.subplot('132', sharey=ax1)\n",
    "plt.pcolormesh(bs, ts, be_t_b)\n",
    "plt.setp(ax2.get_yticklabels(), visible=False)\n",
    "plt.set_cmap('viridis'), plt.colorbar()\n",
    "plt.title('Block Entropy')\n",
    "plt.xlabel('Bond')\n",
    "\n",
    "# plot the schmidt gap\n",
    "ax3 = plt.subplot('133', sharey=ax1)\n",
    "plt.pcolormesh(bs, ts, sg_t_b, vmin=0, vmax=1)\n",
    "plt.setp(ax3.get_yticklabels(), visible=False)\n",
    "plt.set_cmap('magma_r')\n",
    "plt.colorbar()\n",
    "plt.title('Schmidt Gap')\n",
    "plt.xlabel('Bond')\n",
    "\n",
    "plt.show()"
   ]
  },
  {
   "cell_type": "markdown",
   "metadata": {},
   "source": [
    "Where we can see ballistic propagation (and reflection) of the 'light cone'."
   ]
  }
 ],
 "metadata": {
  "celltoolbar": "Raw Cell Format",
  "kernelspec": {
   "display_name": "Python 3",
   "language": "python",
   "name": "python3"
  },
  "language_info": {
   "codemirror_mode": {
    "name": "ipython",
    "version": 3
   },
   "file_extension": ".py",
   "mimetype": "text/x-python",
   "name": "python",
   "nbconvert_exporter": "python",
   "pygments_lexer": "ipython3",
   "version": "3.6.5"
  }
 },
 "nbformat": 4,
 "nbformat_minor": 2
}
