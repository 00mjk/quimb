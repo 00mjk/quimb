{
 "cells": [
  {
   "cell_type": "raw",
   "metadata": {
    "raw_mimetype": "text/restructuredtext"
   },
   "source": [
    "##############\n",
    "Time Evolution\n",
    "##############\n",
    "\n",
    "Time evolutions in ``quimb`` are handled by the class :class:`~quimb.evo.Evolution`, which is initialized with a starting state and hamiltonian.\n",
    "\n",
    "Basic Usage\n",
    "~~~~~~~~~~~\n",
    "\n",
    "Set up the :class:`~quimb.evo.Evolution` object with a initial state and hamiltonian."
   ]
  },
  {
   "cell_type": "code",
   "execution_count": 1,
   "metadata": {},
   "outputs": [],
   "source": [
    "from quimb import *\n",
    "\n",
    "p0 = rand_ket(2**10)\n",
    "h = ham_heis(10, sparse=True)\n",
    "evo = Evolution(p0, h)"
   ]
  },
  {
   "cell_type": "markdown",
   "metadata": {},
   "source": [
    "\n",
    "Update it in a single shot to a new time and get the state,"
   ]
  },
  {
   "cell_type": "code",
   "execution_count": 2,
   "metadata": {},
   "outputs": [
    {
     "data": {
      "text/plain": [
       "qarray([[-0.004895-0.003752j],\n",
       "        [-0.023103+0.013373j],\n",
       "        [ 0.025707-0.022719j],\n",
       "        ...,\n",
       "        [-0.018055+0.013348j],\n",
       "        [-0.013808+0.000646j],\n",
       "        [ 0.007784-0.027032j]])"
      ]
     },
     "execution_count": 2,
     "metadata": {},
     "output_type": "execute_result"
    }
   ],
   "source": [
    "evo.update_to(1)\n",
    "evo.pt"
   ]
  },
  {
   "cell_type": "markdown",
   "metadata": {},
   "source": [
    "Lazily generate the state at multiple times:"
   ]
  },
  {
   "cell_type": "code",
   "execution_count": 3,
   "metadata": {},
   "outputs": [
    {
     "name": "stdout",
     "output_type": "stream",
     "text": [
      "0.0008819837257778465\n",
      "0.008018772696880647\n",
      "0.007921004468599528\n"
     ]
    }
   ],
   "source": [
    "for pt in evo.at_times([2, 3, 4]):\n",
    "    print(expec(pt, p0))"
   ]
  },
  {
   "cell_type": "raw",
   "metadata": {
    "raw_mimetype": "text/restructuredtext"
   },
   "source": [
    "Methods of Updating\n",
    "~~~~~~~~~~~~~~~~~~~\n",
    "\n",
    "There are three methods of updating the state:\n",
    "\n",
    "    - ``Evolution(..., method='integrate')``: use definite integration. \n",
    "      Get system at each time step, only need action of Hamiltonian on \n",
    "      state. Generally efficient. For pure and mixed states. The \n",
    "      additional option ``int_small_step={False, True}`` determines \n",
    "      whether a low or high order adaptive stepping scheme is used, \n",
    "      giving naturally smaller or larger times steps. See \n",
    "      :class:`scipy.integrate.ode` for details, ``False`` corresponds \n",
    "      to ``\"dop853\"``, ``True`` to ``\"dopri5\"``.\n",
    "\n",
    "    - ``Evolution(..., method='solve')``. Diagonalize the hamiltonian, \n",
    "      which once done, allows quickly updating to arbitrary times. \n",
    "      Supports pure and mixed states, recomended for small systems.\n",
    "\n",
    "    -  ``Evolution(..., method='expm')``: compute the evolved state \n",
    "       using the action of the matrix exponential in a 'single shot' \n",
    "       style. Only needs action of Hamiltonian, for very large systems \n",
    "       can use distributed MPI. Only for pure states.\n",
    "\n",
    "Computing on the fly\n",
    "~~~~~~~~~~~~~~~~~~~~\n",
    "\n",
    "Sometimes, if integrating, it is best to just query the state at time-steps chosen dynamically by the adaptive scheme. This is achieved using the ``compute`` keyword supplied to ``Evolution``. It can also just be a convenient way to set up calculations as well:"
   ]
  },
  {
   "cell_type": "code",
   "execution_count": 4,
   "metadata": {},
   "outputs": [
    {
     "name": "stderr",
     "output_type": "stream",
     "text": [
      "100%|██████████| 100/100 [00:00<00:00, 3814.84%/s]\n"
     ]
    }
   ],
   "source": [
    "p0 = rand_product_state(10)\n",
    "h = ham_heis(10, sparse=True)\n",
    "\n",
    "dims = [2] * 10\n",
    "sysa, sysb = (0, 1), (2, 3)\n",
    "\n",
    "def calc_t_and_logneg(t, pt):\n",
    "    ln = logneg_subsys(pt, dims, sysa, sysb)\n",
    "    return t, ln\n",
    "\n",
    "evo = Evolution(p0, h, compute=calc_t_and_logneg, progbar=True)\n",
    "evo.update_to(1)\n",
    "\n",
    "ts, lns = zip(*evo.results)"
   ]
  },
  {
   "cell_type": "code",
   "execution_count": 5,
   "metadata": {},
   "outputs": [
    {
     "data": {
      "text/plain": [
       "(0.0, 0.26290682760247974, 0.5233369775481265, 0.7900587131899766, 1.0)"
      ]
     },
     "execution_count": 5,
     "metadata": {},
     "output_type": "execute_result"
    }
   ],
   "source": [
    "ts"
   ]
  },
  {
   "cell_type": "code",
   "execution_count": 6,
   "metadata": {},
   "outputs": [
    {
     "data": {
      "text/plain": [
       "(0.0,\n",
       " 0.2671006185064719,\n",
       " 0.47658641897909465,\n",
       " 0.6360265342188309,\n",
       " 0.7230360577935351)"
      ]
     },
     "execution_count": 6,
     "metadata": {},
     "output_type": "execute_result"
    }
   ],
   "source": [
    "lns"
   ]
  },
  {
   "cell_type": "raw",
   "metadata": {
    "raw_mimetype": "text/restructuredtext"
   },
   "source": [
    "If a dict of callables is supplied to ``compute``, (each should take two arguments, the time, and the state, as above), ``Evolution.results`` will itself be a dictionary containing the results of each function at each time step, under the respective key. This can be more convenient:"
   ]
  },
  {
   "cell_type": "code",
   "execution_count": 7,
   "metadata": {},
   "outputs": [
    {
     "name": "stderr",
     "output_type": "stream",
     "text": [
      "100%|██████████| 100/100 [00:00<00:00, 19194.14%/s]\n"
     ]
    }
   ],
   "source": [
    "def calc_t(t, _):\n",
    "    return t\n",
    "\n",
    "def calc_logneg(_, pt):\n",
    "    return logneg_subsys(pt, [2]*10, 0, 1)\n",
    "\n",
    "evo = Evolution(p0, h, compute={'t': calc_t, 'ln': calc_logneg}, progbar=True)\n",
    "evo.update_to(1)"
   ]
  },
  {
   "cell_type": "code",
   "execution_count": 8,
   "metadata": {},
   "outputs": [
    {
     "data": {
      "text/plain": [
       "{'t': [0.0, 0.26290682760247974, 0.5233369775481265, 0.7900587131899766, 1.0],\n",
       " 'ln': [0.0, 0.08526629069718968, 0.06419361844053166, 0.0, 0.0]}"
      ]
     },
     "execution_count": 8,
     "metadata": {},
     "output_type": "execute_result"
    }
   ],
   "source": [
    "evo.results"
   ]
  }
 ],
 "metadata": {
  "celltoolbar": "Raw Cell Format",
  "kernelspec": {
   "display_name": "Python 3",
   "language": "python",
   "name": "python3"
  },
  "language_info": {
   "codemirror_mode": {
    "name": "ipython",
    "version": 3
   },
   "file_extension": ".py",
   "mimetype": "text/x-python",
   "name": "python",
   "nbconvert_exporter": "python",
   "pygments_lexer": "ipython3",
   "version": "3.6.6"
  }
 },
 "nbformat": 4,
 "nbformat_minor": 2
}
