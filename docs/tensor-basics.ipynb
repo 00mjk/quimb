{
 "cells": [
  {
   "cell_type": "raw",
   "metadata": {
    "raw_mimetype": "text/restructuredtext"
   },
   "source": [
    "#####################\n",
    "Tensor Network Basics\n",
    "#####################\n",
    "\n",
    "The tensor network functionality in ``quimb`` aims to be easy to \n",
    "manipulate and interact with, without losing any generality or efficiency.\n",
    "Many of the manipulations try and mimic how one thinks graphically about\n",
    "tensor networks, which is helped by the ability to plot a graph of the \n",
    "network at any point.\n",
    "\n",
    "The functionality can be found in the submodule ``quimb.tensor``, and \n",
    "is not imported  by default with the base ``quimb``:"
   ]
  },
  {
   "cell_type": "code",
   "execution_count": 1,
   "metadata": {},
   "outputs": [],
   "source": [
    "%matplotlib inline\n",
    "import quimb as qu\n",
    "import quimb.tensor as qtn"
   ]
  },
  {
   "cell_type": "raw",
   "metadata": {
    "raw_mimetype": "text/restructuredtext"
   },
   "source": [
    "The core functions of note are :class:`~quimb.tensor.tensor_core.Tensor`, :class:`~quimb.tensor.tensor_core.TensorNetwork`, :func:`~quimb.tensor.tensor_core.tensor_contract`, and :func:`~quimb.tensor.tensor_core.tensor_split`."
   ]
  },
  {
   "cell_type": "raw",
   "metadata": {
    "raw_mimetype": "text/restructuredtext"
   },
   "source": [
    "Creating Tensors\n",
    "----------------\n",
    "\n",
    "Tensors are created using the class :class:`~quimb.tensor.tensor_core.Tensor`. Indicies matching the shape of the data array must be supplied, and optionally tags which can be used to group it with others and/or uniquely identify it.\n",
    "\n",
    "For example, let's create the singlet state in tensor form, i.e., an index for each qubit:"
   ]
  },
  {
   "cell_type": "code",
   "execution_count": 2,
   "metadata": {},
   "outputs": [
    {
     "data": {
      "text/plain": [
       "Tensor(shape=(2, 2), inds=('k0', 'k1'), tags={'KET'})"
      ]
     },
     "execution_count": 2,
     "metadata": {},
     "output_type": "execute_result"
    }
   ],
   "source": [
    "data = qu.bell_state('psi-').reshape(2, 2)\n",
    "inds = ('k0', 'k1')\n",
    "tags = {'KET'}\n",
    "\n",
    "ket = qtn.Tensor(data, inds, tags)\n",
    "ket"
   ]
  },
  {
   "cell_type": "raw",
   "metadata": {
    "raw_mimetype": "text/restructuredtext"
   },
   "source": [
    "In lots of ways this is like a normal n-dimensional array, but it can also be manipulated without having to keep track of which axis is which. Some key methods are:\n",
    "\n",
    "- :meth:`~quimb.tensor.tensor_core.Tensor.transpose`\n",
    "- :meth:`~quimb.tensor.tensor_core.Tensor.reindex`\n",
    "- :meth:`~quimb.tensor.tensor_core.Tensor.retag`\n",
    "- :meth:`~quimb.tensor.tensor_core.Tensor.fuse`\n",
    "- :meth:`~quimb.tensor.tensor_core.Tensor.squeeze`\n",
    "\n",
    ".. note::\n",
    "    :class: quimbnote\n",
    "\n",
    "    These all have inplace versions with an underscore appended, \n",
    "    so that ``ket.transpose_('k1', 'k0')`` would perform a \n",
    "    tranposition on ``ket`` directly, rather than making a new \n",
    "    tensor. This is a convention adopted elsewhere also.\n",
    "\n",
    "Let's also create some tensor paulis, with indices that act on the bell state and map the physical indices into two new ones:"
   ]
  },
  {
   "cell_type": "code",
   "execution_count": 3,
   "metadata": {},
   "outputs": [],
   "source": [
    "X = qtn.Tensor(qu.pauli('X'), inds=('k0', 'b0'), tags={'PAULI', 'X', '0'})\n",
    "Y = qtn.Tensor(qu.pauli('Y'), inds=('k1', 'b1'), tags={'PAULI', 'Y', '1'})"
   ]
  },
  {
   "cell_type": "markdown",
   "metadata": {},
   "source": [
    "And finally, a random 'bra' to complete the inner product:"
   ]
  },
  {
   "cell_type": "code",
   "execution_count": 4,
   "metadata": {},
   "outputs": [],
   "source": [
    "bra = qtn.Tensor(qu.rand_ket(4).reshape(2, 2), inds=('b0', 'b1'), tags={'BRA'})"
   ]
  },
  {
   "cell_type": "raw",
   "metadata": {
    "raw_mimetype": "text/restructuredtext"
   },
   "source": [
    "Note how repeating an index is all that is required to define a contraction. \n",
    "If you want to join two tensors and have the index generated automatically \n",
    "you can use the :func:`~quimb.tensor.tensor_core.connect`."
   ]
  },
  {
   "cell_type": "raw",
   "metadata": {
    "raw_mimetype": "text/restructuredtext"
   },
   "source": [
    ".. note::\n",
    "    :class: quimbnote\n",
    "\n",
    "    Indices and tags should be strings - though this is currently not enforced. \n",
    "    A useful convention is to keep ``inds`` lower case, and ``tags`` upper.\n",
    "\n",
    "Creating Tensor Networks\n",
    "------------------------\n",
    "\n",
    "We can now combine these into a :class:`~quimb.tensor.tensor_core.TensorNetwork` using the ``&`` operator overload:"
   ]
  },
  {
   "cell_type": "code",
   "execution_count": 5,
   "metadata": {},
   "outputs": [
    {
     "name": "stdout",
     "output_type": "stream",
     "text": [
      "TensorNetwork([\n",
      "    Tensor(shape=(2, 2), inds=('k0', 'k1'), tags={'KET'}),\n",
      "    Tensor(shape=(2, 2), inds=('k0', 'b0'), tags={'X', 'PAULI', '0'}),\n",
      "    Tensor(shape=(2, 2), inds=('k1', 'b1'), tags={'Y', 'PAULI', '1'}),\n",
      "    Tensor(shape=(2, 2), inds=('b0', 'b1'), tags={'BRA'}),\n",
      "])\n"
     ]
    }
   ],
   "source": [
    "TN = ket.H & X & Y & bra\n",
    "print(TN)"
   ]
  },
  {
   "cell_type": "raw",
   "metadata": {
    "raw_mimetype": "text/restructuredtext"
   },
   "source": [
    "(note that ``.H`` conjugates the data but leaves the indices). \n",
    "We could also use the :class:`~quimb.tensor.tensor_core.TensorNetwork` \n",
    "constructor, which takes any sequence of tensors and/or tensor networks, \n",
    "and has various advanced options.\n",
    "\n",
    "The geometry of this network is completely defined by the repeated\n",
    "indices forming edges between tensors, as well as arbitrary tags \n",
    "identifying the tensors. The internal data of the tensor network \n",
    "allows efficient access to any tensors based on their ``tags`` or ``inds``.\n",
    "\n",
    ".. note::\n",
    "    :class: quimbnote\n",
    "\n",
    "    In order to naturally maintain networks geometry, bonds (repeated \n",
    "    indices) can be mangled when two tensor networks are combined.\n",
    "    As a result of this, only exterior indices are guaranteed to\n",
    "    keep their absolute value - since these define the overall object.\n",
    "    The :func:`~quimb.tensor.tensor_core.bonds` function can be used to\n",
    "    find the names of indices connecting tensors if explicitly required.\n",
    "    \n",
    "\n",
    "Any network can also be graphed using \n",
    ":meth:`~quimb.tensor.tensor_core.TensorNetwork.graph`, which will pick \n",
    "a layout and also represent bond size as edge thickness, and optionally\n",
    "color the nodes based on ``tags``."
   ]
  },
  {
   "cell_type": "code",
   "execution_count": 6,
   "metadata": {},
   "outputs": [
    {
     "data": {
      "image/png": "[encoded data removed]",
      "text/plain": [
       "<Figure size 288x288 with 1 Axes>"
      ]
     },
     "metadata": {},
     "output_type": "display_data"
    }
   ],
   "source": [
    "TN.graph(color=['KET', 'PAULI', 'BRA'], figsize=(4, 4))"
   ]
  },
  {
   "cell_type": "markdown",
   "metadata": {},
   "source": [
    "Note the tags can be used to identify both paulis at once. But they could also be uniquely identified using their ``'X'`` and ``'Y'`` tags respectively:"
   ]
  },
  {
   "cell_type": "code",
   "execution_count": 7,
   "metadata": {},
   "outputs": [
    {
     "data": {
      "image/png": "[encoded data removed]",
      "text/plain": [
       "<Figure size 288x288 with 1 Axes>"
      ]
     },
     "metadata": {},
     "output_type": "display_data"
    }
   ],
   "source": [
    "TN.graph(color=['KET', 'X', 'BRA', 'Y'], figsize=(4, 4))"
   ]
  },
  {
   "cell_type": "raw",
   "metadata": {
    "raw_mimetype": "text/restructuredtext"
   },
   "source": [
    "Contracting Tensors\n",
    "-------------------\n",
    "\n",
    "To completely contract a network we can use the ``^`` operator overload, and the ``all`` function."
   ]
  },
  {
   "cell_type": "code",
   "execution_count": 8,
   "metadata": {},
   "outputs": [
    {
     "data": {
      "text/plain": [
       "(-0.06293658935292364+0.763177999610807j)"
      ]
     },
     "execution_count": 8,
     "metadata": {},
     "output_type": "execute_result"
    }
   ],
   "source": [
    "TN ^ all"
   ]
  },
  {
   "cell_type": "markdown",
   "metadata": {},
   "source": [
    "Or if we just want to contract the paulis:"
   ]
  },
  {
   "cell_type": "code",
   "execution_count": 9,
   "metadata": {},
   "outputs": [
    {
     "name": "stdout",
     "output_type": "stream",
     "text": [
      "TensorNetwork([\n",
      "    Tensor(shape=(2, 2), inds=('k0', 'k1'), tags={'KET'}),\n",
      "    Tensor(shape=(2, 2), inds=('b0', 'b1'), tags={'BRA'}),\n",
      "    Tensor(shape=(2, 2, 2, 2), inds=('k0', 'b0', 'k1', 'b1'), tags={'PAULI', '0', 'Y', 'X', '1'}),\n",
      "])\n"
     ]
    }
   ],
   "source": [
    "print(TN ^ 'PAULI')"
   ]
  },
  {
   "cell_type": "markdown",
   "metadata": {},
   "source": [
    "Notice how the ``tags`` of the Paulis have been combined on the new tensor.\n",
    "\n",
    "The contraction order is optimized automatically using ``opt_einsum``, is cached,\n",
    "and can easily handle hundreds of tensors (though it uses a greedy algorithm and \n",
    "is not guaranteed to find the optimal path).\n",
    "\n",
    "A cumulative contract allows a custom 'bubbling' order:"
   ]
  },
  {
   "cell_type": "code",
   "execution_count": 10,
   "metadata": {},
   "outputs": [
    {
     "name": "stdout",
     "output_type": "stream",
     "text": [
      "(-0.06293658935292364+0.763177999610807j)\n"
     ]
    }
   ],
   "source": [
    "# \"take KET, then contract X in, then contract BRA *and* Y in, etc...\"\n",
    "print(TN >> ['KET', 'X', ('BRA', 'Y')])"
   ]
  },
  {
   "cell_type": "markdown",
   "metadata": {},
   "source": [
    "And a structured contract uses the tensor networks tagging structure (a string\n",
    "format specifier like ``\"I{}\"``) to perform a cumulative contract automatically, \n",
    "e.g. grouping the tensors of a MPS/MPO into segments of 10 sites.\n",
    "This can be slightly quicker than finding the full contraction path.\n",
    "\n",
    "When a TN has a structure, structured contractions can be used by specifying either an ``Ellipsis``:\n",
    "\n",
    "    ``TN ^ ...``  # which means full, structured contract\n",
    "\n",
    "or a ``slice``:\n",
    "\n",
    "    ``TN ^ slice(100, 200)``  # which means a structured contract of those sites only"
   ]
  },
  {
   "cell_type": "raw",
   "metadata": {
    "raw_mimetype": "text/restructuredtext"
   },
   "source": [
    "The full api of contraction methods is:\n",
    "\n",
    "- :func:`quimb.tensor.tensor_core.tensor_contract`\n",
    "- :func:`quimb.tensor.tensor_core.Tensor.contract`\n",
    "- :func:`quimb.tensor.tensor_core.TensorNetwork.contract` (which dispatches to one of the below:)\n",
    "- :func:`quimb.tensor.tensor_core.TensorNetwork.contract_tags`\n",
    "- :func:`quimb.tensor.tensor_core.TensorNetwork.contract_cumulative` (overloaded on ``>>``)\n",
    "- :func:`quimb.tensor.tensor_core.TensorNetwork.contract_structured`"
   ]
  },
  {
   "cell_type": "code",
   "execution_count": 11,
   "metadata": {},
   "outputs": [
    {
     "name": "stdout",
     "output_type": "stream",
     "text": [
      "TensorNetwork([\n",
      "    Tensor(shape=(2, 2), inds=('k0', 'k1'), tags={'KET'}),\n",
      "    Tensor(shape=(2, 2), inds=('b0', 'b1'), tags={'BRA'}),\n",
      "    Tensor(shape=(2, 2, 2, 2), inds=('k0', 'b0', 'k1', 'b1'), tags={'PAULI', '0', 'Y', 'X', '1'}),\n",
      "])\n"
     ]
    }
   ],
   "source": [
    "print((TN ^ 'PAULI'))"
   ]
  },
  {
   "cell_type": "raw",
   "metadata": {
    "raw_mimetype": "text/restructuredtext"
   },
   "source": [
    "Splitting Tensors\n",
    "-----------------\n",
    "\n",
    "Tensors can be decomposed ('split') using many different methods, all accessed through\n",
    ":func:`~quimb.tensor.tensor_core.tensor_split` or :meth:`~quimb.tensor.tensor_core.Tensor.split`.\n",
    "\n",
    "As an example, let's split the tensor tagged ``'KET'`` in our TN:"
   ]
  },
  {
   "cell_type": "code",
   "execution_count": 12,
   "metadata": {},
   "outputs": [
    {
     "name": "stdout",
     "output_type": "stream",
     "text": [
      "TensorNetwork([\n",
      "    Tensor(shape=(2, 2), inds=('k0', '_76028b0000008'), tags={'KET'}),\n",
      "    Tensor(shape=(2, 2), inds=('_76028b0000008', 'k1'), tags={'KET'}),\n",
      "])\n"
     ]
    }
   ],
   "source": [
    "# select any tensors matching the 'KET' tag - here only 1\n",
    "Tk = TN['KET']\n",
    "\n",
    "# now split it, creating a new tensor network of 2 tensors\n",
    "Tk_s = Tk.split(left_inds=['k0'])\n",
    "\n",
    "# note new index created \n",
    "print(Tk_s)"
   ]
  },
  {
   "cell_type": "raw",
   "metadata": {
    "raw_mimetype": "text/restructuredtext"
   },
   "source": [
    "Finally, let's replace the original 'KET' tensor with its split version:"
   ]
  },
  {
   "cell_type": "code",
   "execution_count": 13,
   "metadata": {},
   "outputs": [
    {
     "data": {
      "image/png": "[encoded data removed]",
      "text/plain": [
       "<Figure size 288x288 with 1 Axes>"
      ]
     },
     "metadata": {},
     "output_type": "display_data"
    }
   ],
   "source": [
    "# remove the original KET tensor\n",
    "del TN['KET']\n",
    "\n",
    "# inplace add the split tensor network\n",
    "TN &= Tk_s\n",
    "\n",
    "# plot - should now have 5 tensors\n",
    "TN.graph(color=['KET', 'PAULI', 'BRA'], figsize=(4, 4))"
   ]
  },
  {
   "cell_type": "raw",
   "metadata": {
    "raw_mimetype": "text/restructuredtext"
   },
   "source": [
    "Other Overloads\n",
    "---------------\n",
    "\n",
    "You can also add tensors/networks together using ``|`` or the inplace ``|=``, which act like ``&`` and ``&=`` respectively, but are virtual, meaning that changes to the tensors propogate across all networks viewing it (see :class:`~quimb.tensor.tensor_core.TensorNetwork`).\n",
    "\n",
    "The ``@`` symbol is overloaded to combine the objects into a network and then immediately contract them all. In this way it mimics dense dot product. E.g."
   ]
  },
  {
   "cell_type": "code",
   "execution_count": 14,
   "metadata": {},
   "outputs": [
    {
     "data": {
      "text/plain": [
       "1.0"
      ]
     },
     "execution_count": 14,
     "metadata": {},
     "output_type": "execute_result"
    }
   ],
   "source": [
    "# make a 5 qubit tensor state\n",
    "dims = [2] * 5\n",
    "data = qu.rand_ket(32).A.reshape(*dims)\n",
    "inds=['k0', 'k1', 'k2', 'k3', 'k4']\n",
    "psi = qtn.Tensor(data, inds=inds)\n",
    "\n",
    "# find the inner product with itself\n",
    "psi.H @ psi"
   ]
  },
  {
   "cell_type": "markdown",
   "metadata": {},
   "source": [
    "In this case, the conjugated copy ``psi.H`` has the same outer indices as ``psi`` and so the inner product is naturally formed."
   ]
  },
  {
   "cell_type": "raw",
   "metadata": {
    "raw_mimetype": "text/restructuredtext"
   },
   "source": [
    "Other `TensorNetwork` Features\n",
    "------------------------------\n",
    "\n",
    "- Insert gauges between tensors with \n",
    "  :meth:`~quimb.tensor.tensor_core.TensorNetwork.insert_gauge`\n",
    "- Compress bonds between tensors with\n",
    "  :meth:`~quimb.tensor.tensor_core.TensorNetwork.compress_between`\n",
    "- Replace subnetworks with an SVD (or other decomposition) using \n",
    "  :meth:`~quimb.tensor.tensor_core.TensorNetwork.replace_with_svd`\n",
    "- Take the trace with\n",
    "  :meth:`~quimb.tensor.tensor_core.TensorNetwork.trace`\n",
    "- Convert to dense form with\n",
    "  :meth:`~quimb.tensor.tensor_core.TensorNetwork.to_dense`\n",
    "- Treat TN as a ``scipy``\n",
    "  `LinearOperator <https://docs.scipy.org/doc/scipy/reference/generated/scipy.sparse.linalg.LinearOperator.html>`_\n",
    "  with\n",
    "  :meth:`~quimb.tensor.tensor_core.TensorNetwork.aslinearoperator`\n",
    "- Automatically iterate over 'cut' bonds with :meth:`~quimb.tensor.tensor_core.TensorNetwork.cut_iter`\n",
    "  to trade memory for time / parallelization.\n",
    "- Impose unitary/isometric constaints at the tensor level with ``left_inds`` and :meth:`~quimb.tensor.tensor_core.TensorNetwork.unitize`\n",
    "- Optimize tensors in arbitrary network geometries with respect to custom loss functions \n",
    "  using ``tensorflow`` or ``pytorch`` - see :ref:`ex-tensorflow-tn-opt`.\n",
    "  \n",
    "TNs are also picklable so they can be easily saved to and loaded from disk.\n",
    "\n",
    "\n",
    "Internal Structure\n",
    "------------------\n",
    "\n",
    "A :class:`~quimb.tensor.tensor_core.TensorNetwork` stores its tensors in three dictionaries  which allow them to be selected in constant time, regardless of network size, based on their ``tags`` and ``inds``. These are\n",
    "\n",
    "- ``TensorNetwork.tensor_map``: a mapping of unique string ids (``tids``) to each tensor\n",
    "- ``TensorNetwork.tag_map``: a mapping of every tag in the network to the set of ``tids``\n",
    "  corresponding to tensors which have that tag.\n",
    "- ``TensorNetwork.ind_map``: a mapping of every index in the network to the set of ``tids``\n",
    "  corresponding to tensors which that that index.\n",
    "\n",
    "Thus the tensors with tag ``'HAM'`` in network ``tn`` would be ``(tn.tensor_map[tid] for tid in tn.tag_map['HAM'])`` etc. The geometry of the network can thus be completely defined by which indices appear twice, and how you label the tensors with tags in order to select them.\n",
    "\n",
    "This allows any tagging strategy/structure to be used to place/reference/remove tensors etc. For example the default tags a 1D tensor network uses are ``('I0', 'I1', 'I2', ...)`` with physical inds ``('k0', 'k1', 'k2', ...)``. A 2D network might use  tags ``('I0J0', 'I0J1', 'I0J2', 'I1J0', ...)`` etc.\n",
    "\n",
    "To select a subset or partition a network into tensors that match any or all of a set of tags see :func:`~quimb.tensor.tensor_core.TensorNetwork.select` or :func:`~quimb.tensor.tensor_core.TensorNetwork.partition`.\n",
    "\n",
    "Finally, each :class:`~quimb.tensor.tensor_core.Tensor` also contains a ``weakref.ref`` to each :class:`~quimb.tensor.tensor_core.TensorNetwork` that is viewing it (its ``owners``), so that these maps can be updated whenever the tensor is modified directly.\n",
    "\n",
    "\n",
    "Contraction Backend & Strategy\n",
    "------------------------------\n",
    "\n",
    "The tensor contractions can be performed with any backend supported by `opt_einsum <https://optimized-einsum.readthedocs.io/en/latest/backends.html>`_, including several which use the GPU. These are specified with the ``backend`` argument to :func:`~quimb.tensor.tensor_core.tensor_contract` and any related functions, or by setting a default backend using :func:`~quimb.tensor.tensor_core.set_contract_backend` and :func:`~quimb.tensor.tensor_core.set_tensor_linop_backend`.\n",
    "\n",
    "The strategy used to find contraction orders for tensor networks is specified using the ``optimize`` keyword - see the `opt_einsum docs <https://optimized-einsum.readthedocs.io/en/latest/path_finding.html>`_.\n",
    "\n",
    "There are also the following context-managers for setting temporarily setting the default contraction strategy, contraction backend, and TN linear operator backend. \n",
    "For example the following might be useful:\n",
    "\n",
    ".. code:: python3\n",
    "\n",
    "    with qtn.contract_strategy('optimal'):\n",
    "        # always find the optimal contraction sequence (exponentially slow for large networks!)\n",
    "        ...\n",
    "        \n",
    "    with qtn.contract_backend('cupy')\n",
    "        # use the GPU array library cupy to perform any contractions\n",
    "        ...\n",
    "        \n",
    "    with qtn.tensor_linop_backend('tensorflow'):\n",
    "        # compile any tensor linear operators into tensorflow graphs before use\n",
    "        ...\n",
    "\n",
    ".. note::\n",
    "    :class: quimbnote\n",
    "\n",
    "    Recent versions of ``opt_einsum`` have support for automatically detecting the correct backend library to use.\n",
    "    Sometimes however you want to contract ``numpy`` tensors *via*, for example, ``cupy``, in which case this must\n",
    "    still be specified."
   ]
  }
 ],
 "metadata": {
  "celltoolbar": "Raw Cell Format",
  "kernelspec": {
   "display_name": "Python 3",
   "language": "python",
   "name": "python3"
  },
  "language_info": {
   "codemirror_mode": {
    "name": "ipython",
    "version": 3
   },
   "file_extension": ".py",
   "mimetype": "text/x-python",
   "name": "python",
   "nbconvert_exporter": "python",
   "pygments_lexer": "ipython3",
   "version": "3.7.3"
  }
 },
 "nbformat": 4,
 "nbformat_minor": 2
}
