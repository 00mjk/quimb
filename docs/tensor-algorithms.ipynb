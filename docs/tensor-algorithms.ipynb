{
 "cells": [
  {
   "cell_type": "raw",
   "metadata": {
    "raw_mimetype": "text/restructuredtext"
   },
   "source": [
    "###############################\n",
    "1D Tensor Networks & Algorithms\n",
    "###############################\n",
    "\n",
    "Although ``quimb.tensor`` aims to be an interactive and general\n",
    "base for arbitrary tensor networks, it also has fast \n",
    "implementations of the following:\n",
    "\n",
    "Static:\n",
    "\n",
    "    * 1-site :class:`~quimb.tensor.tensor_dmrg.DMRG1` (OBC and PBC)\n",
    "    * 2-site :class:`~quimb.tensor.tensor_dmrg.DMRG2` (OBC and PBC)\n",
    "    * 1-site :class:`~quimb.tensor.tensor_dmrg.DMRGX`\n",
    "\n",
    "Time Evolving:\n",
    "\n",
    "    * :class:`~quimb.tensor.tensor_tebd.TEBD`\n",
    "\n",
    "Two site DMRGX and TDVP slot into the same framework and should be\n",
    "easy to implement.\n",
    "    \n",
    "    \n",
    "Matrix Product States\n",
    "---------------------\n",
    "\n",
    "The basic constructor for MPS is :class:`~quimb.tensor.tensor_1d.MatrixProductState`.\n",
    "This is a subclass of :class:`~quimb.tensor.tensor_core.TensorNetwork`, \n",
    "with a special tagging scheme (``MPS.site_tag_id``) and special index \n",
    "naming sceme (``MPS.site_ind_id``). \n",
    "It is also possible to instantiate a MPS directly from a dense vector using\n",
    ":meth:`~quimb.tensor.tensor_1d.MatrixProductState.from_dense`, though\n",
    "this is obviously not efficient for many sites.\n",
    "\n",
    "In the following, we just generate a random MPS, and demonstrate some basic functionality."
   ]
  },
  {
   "cell_type": "code",
   "execution_count": 1,
   "metadata": {},
   "outputs": [],
   "source": [
    "%matplotlib inline\n",
    "from quimb.tensor import *"
   ]
  },
  {
   "cell_type": "code",
   "execution_count": 2,
   "metadata": {},
   "outputs": [
    {
     "name": "stdout",
     "output_type": "stream",
     "text": [
      "Site tags: 'I{}', site inds: 'k{}'\n"
     ]
    }
   ],
   "source": [
    "p = MPS_rand_state(n=20, bond_dim=50)\n",
    "print(\"Site tags: '{}', site inds: '{}'\".format(p.site_tag_id, p.site_ind_id))"
   ]
  },
  {
   "cell_type": "code",
   "execution_count": 3,
   "metadata": {},
   "outputs": [
    {
     "name": "stdout",
     "output_type": "stream",
     "text": [
      "MatrixProductState([\n",
      "    Tensor(shape=(50, 2), inds=('_83f9260000000', 'k0'), tags={'I0'}),\n",
      "    Tensor(shape=(50, 50, 2), inds=('_83f9260000000', '_83f9260000002', 'k1'), tags={'I1'}),\n",
      "    Tensor(shape=(50, 50, 2), inds=('_83f9260000002', '_83f9260000004', 'k2'), tags={'I2'}),\n",
      "    Tensor(shape=(50, 50, 2), inds=('_83f9260000004', '_83f9260000006', 'k3'), tags={'I3'}),\n",
      "    Tensor(shape=(50, 50, 2), inds=('_83f9260000006', '_83f9260000008', 'k4'), tags={'I4'}),\n",
      "    Tensor(shape=(50, 50, 2), inds=('_83f9260000008', '_83f926000000a', 'k5'), tags={'I5'}),\n",
      "    Tensor(shape=(50, 50, 2), inds=('_83f926000000a', '_83f926000000c', 'k6'), tags={'I6'}),\n",
      "    Tensor(shape=(50, 50, 2), inds=('_83f926000000c', '_83f926000000e', 'k7'), tags={'I7'}),\n",
      "    Tensor(shape=(50, 50, 2), inds=('_83f926000000e', '_83f926000000A', 'k8'), tags={'I8'}),\n",
      "    Tensor(shape=(50, 50, 2), inds=('_83f926000000A', '_83f926000000C', 'k9'), tags={'I9'}),\n",
      "    Tensor(shape=(50, 50, 2), inds=('_83f926000000C', '_83f926000000E', 'k10'), tags={'I10'}),\n",
      "    Tensor(shape=(50, 50, 2), inds=('_83f926000000E', '_83f9260000010', 'k11'), tags={'I11'}),\n",
      "    Tensor(shape=(50, 50, 2), inds=('_83f9260000010', '_83f9260000012', 'k12'), tags={'I12'}),\n",
      "    Tensor(shape=(50, 50, 2), inds=('_83f9260000012', '_83f9260000014', 'k13'), tags={'I13'}),\n",
      "    Tensor(shape=(50, 50, 2), inds=('_83f9260000014', '_83f9260000016', 'k14'), tags={'I14'}),\n",
      "    Tensor(shape=(50, 50, 2), inds=('_83f9260000016', '_83f9260000018', 'k15'), tags={'I15'}),\n",
      "    Tensor(shape=(50, 50, 2), inds=('_83f9260000018', '_83f926000001a', 'k16'), tags={'I16'}),\n",
      "    Tensor(shape=(50, 50, 2), inds=('_83f926000001a', '_83f926000001c', 'k17'), tags={'I17'}),\n",
      "    Tensor(shape=(50, 50, 2), inds=('_83f926000001c', '_83f926000001e', 'k18'), tags={'I18'}),\n",
      "    Tensor(shape=(50, 2), inds=('_83f926000001e', 'k19'), tags={'I19'}),\n",
      "], structure='I{}', nsites=20)\n"
     ]
    }
   ],
   "source": [
    "print(p)  # shows the full list of constituent tensors"
   ]
  },
  {
   "cell_type": "code",
   "execution_count": 4,
   "metadata": {},
   "outputs": [
    {
     "name": "stdout",
     "output_type": "stream",
     "text": [
      " 50 50 50 50 50 50 50 50 50 50 50 50 50 50 50 50 50 50 50 \n",
      "o--o--o--o--o--o--o--o--o--o--o--o--o--o--o--o--o--o--o--o\n",
      "|  |  |  |  |  |  |  |  |  |  |  |  |  |  |  |  |  |  |  |\n"
     ]
    }
   ],
   "source": [
    "p.show()  # 1D tensor networks also have a ascii ``show`` method"
   ]
  },
  {
   "cell_type": "markdown",
   "metadata": {},
   "source": [
    "We can then __canonicalize__ the MPS:"
   ]
  },
  {
   "cell_type": "code",
   "execution_count": 5,
   "metadata": {},
   "outputs": [
    {
     "name": "stdout",
     "output_type": "stream",
     "text": [
      " 2 4 8 16 32 50 50 50 50 50 50 50 50 50 50 50 50 50 50 \n",
      ">->->->-->-->-->-->-->-->-->-->-->-->-->-->-->-->-->--o\n",
      "| | | |  |  |  |  |  |  |  |  |  |  |  |  |  |  |  |  |\n"
     ]
    }
   ],
   "source": [
    "p.left_canonize()\n",
    "p.show()"
   ]
  },
  {
   "cell_type": "markdown",
   "metadata": {},
   "source": [
    "And we can compute the inner product as:"
   ]
  },
  {
   "cell_type": "code",
   "execution_count": 6,
   "metadata": {},
   "outputs": [
    {
     "data": {
      "text/plain": [
       "1.0"
      ]
     },
     "execution_count": 6,
     "metadata": {},
     "output_type": "execute_result"
    }
   ],
   "source": [
    "p.H @ p"
   ]
  },
  {
   "cell_type": "markdown",
   "metadata": {},
   "source": [
    "This relies on them sharing the same physical indices, ``site_ind_id``, \n",
    "which the conjugated copy ``p.H`` naturally does.\n",
    "\n",
    "Like any TN, we can __graph__ the overlap for example, and make use of the \n",
    "site tags to color it:"
   ]
  },
  {
   "cell_type": "code",
   "execution_count": 7,
   "metadata": {},
   "outputs": [
    {
     "data": {
      "image/png": "[encoded data removed]",
      "text/plain": [
       "<Figure size 432x432 with 1 Axes>"
      ]
     },
     "metadata": {},
     "output_type": "display_data"
    }
   ],
   "source": [
    "(p.H & p).graph(color=[f'I{i}' for i in range(30)])"
   ]
  },
  {
   "cell_type": "raw",
   "metadata": {
    "raw_mimetype": "text/restructuredtext"
   },
   "source": [
    "I.e. we used the fact that 1D tensor networks are tagged with the structure ``\"I{}\"`` \n",
    "denoting their sites. See the :ref:`examples` for how to fix the positions of tensors when graphing them.\n",
    "\n",
    "We can also **add** MPS, and **multiply/divide** them by scalars:"
   ]
  },
  {
   "cell_type": "code",
   "execution_count": 8,
   "metadata": {},
   "outputs": [
    {
     "name": "stdout",
     "output_type": "stream",
     "text": [
      " 4 8 16 32 64 100 100 100 100 100 100 100 100 100 100 100 100 100 100 \n",
      "o-o-o--o--o--o===o===o===o===o===o===o===o===o===o===o===o===o===o===o\n",
      "| | |  |  |  |   |   |   |   |   |   |   |   |   |   |   |   |   |   |\n"
     ]
    }
   ],
   "source": [
    "p2 = (p + p) / 2\n",
    "p2.show()"
   ]
  },
  {
   "cell_type": "markdown",
   "metadata": {},
   "source": [
    "Which doubles the bond dimension, as expected, but should still be normalized:"
   ]
  },
  {
   "cell_type": "code",
   "execution_count": 9,
   "metadata": {},
   "outputs": [
    {
     "data": {
      "text/plain": [
       "0.9999999999999998"
      ]
     },
     "execution_count": 9,
     "metadata": {},
     "output_type": "execute_result"
    }
   ],
   "source": [
    "p2.H @ p2"
   ]
  },
  {
   "cell_type": "markdown",
   "metadata": {},
   "source": [
    "Because the MPS is the addition of two identical states, it should also __compress__ right back down:"
   ]
  },
  {
   "cell_type": "code",
   "execution_count": 10,
   "metadata": {},
   "outputs": [
    {
     "name": "stdout",
     "output_type": "stream",
     "text": [
      " 2 4 8 16 32 50 50 50 50 50 50 50 50 50 32 16 8 4 2 \n",
      ">->->->-->-->-->-->-->-->--o--<--<--<--<--<--<-<-<-<\n",
      "| | | |  |  |  |  |  |  |  |  |  |  |  |  |  | | | |\n"
     ]
    }
   ],
   "source": [
    "p2.compress(form=10)\n",
    "p2.show()"
   ]
  },
  {
   "cell_type": "markdown",
   "metadata": {},
   "source": [
    "Where we have also set the __orthogonality center__ at the site 10.\n",
    "\n",
    "When tensor networks are imbued with a ``structure``, they \n",
    "can be indexed with integers and slices, which automatically get\n",
    "converted using ``TN.site_tag_id``:"
   ]
  },
  {
   "cell_type": "code",
   "execution_count": 11,
   "metadata": {},
   "outputs": [
    {
     "data": {
      "text/plain": [
       "Tensor(shape=(50, 50, 2), inds=('_83f926000000C', '_83f926000000E', 'k10'), tags={'I10'})"
      ]
     },
     "execution_count": 11,
     "metadata": {},
     "output_type": "execute_result"
    }
   ],
   "source": [
    "p2[10]  # get the tensor(s) with tag 'I10'."
   ]
  },
  {
   "cell_type": "markdown",
   "metadata": {},
   "source": [
    "Note the tensor has matching physical index ``'k10'``.\n",
    "\n",
    "This tensor is the orthogonality center so:\n",
    "\n",
    "       ->->-O-<-<-        +-O-+\n",
    "    ... | | | | | ...  =  | | |\n",
    "       ->->-O-<-<-        +-O-+\n",
    "           i=10            i=10\n",
    "\n",
    "should compute the normalization of the *whole* state:"
   ]
  },
  {
   "cell_type": "code",
   "execution_count": 12,
   "metadata": {},
   "outputs": [
    {
     "data": {
      "text/plain": [
       "0.9999999999999974"
      ]
     },
     "execution_count": 12,
     "metadata": {},
     "output_type": "execute_result"
    }
   ],
   "source": [
    "p2[10].H @ p2[10]  # all indices match -> inner product"
   ]
  },
  {
   "cell_type": "markdown",
   "metadata": {},
   "source": [
    "If two tensor networks with the same ``structure`` are combined, it is propagated.\n",
    "For example ``(p2.H & p2)`` can still be sliced.\n",
    "\n",
    "Since the MPS is in canonical form, left and right pieces of the overlap\n",
    "should form the identity. The following forms a TN of the inner product, \n",
    "selects the *2* tensors corresponding to the last site (``-1``), contracts them, \n",
    "then gets the underlying data:"
   ]
  },
  {
   "cell_type": "code",
   "execution_count": 13,
   "metadata": {},
   "outputs": [
    {
     "data": {
      "text/plain": [
       "array([[ 1.00000000e+00, -6.28660497e-18],\n",
       "       [-6.28660497e-18,  1.00000000e+00]])"
      ]
     },
     "execution_count": 13,
     "metadata": {},
     "output_type": "execute_result"
    }
   ],
   "source": [
    "((p2.H & p2).select(-1) ^ all).data  # should be close to the identity"
   ]
  },
  {
   "cell_type": "raw",
   "metadata": {
    "raw_mimetype": "text/restructuredtext"
   },
   "source": [
    "Various other builtin quantities are available too:\n",
    "\n",
    "- :meth:`~quimb.tensor.tensor_1d.MatrixProductState.entropy`\n",
    "- :meth:`~quimb.tensor.tensor_1d.MatrixProductState.schmidt_gap`\n",
    "- :meth:`~quimb.tensor.tensor_1d.MatrixProductState.magnetization`\n",
    "- :meth:`~quimb.tensor.tensor_1d.TensorNetwork1DVector.correlation`\n",
    "- :meth:`~quimb.tensor.tensor_1d.MatrixProductState.logneg_subsys`\n",
    "\n",
    "and other quantities such as the mutual information can be easily calculated \n",
    "using a combination of - \n",
    ":meth:`~quimb.tensor.tensor_1d.MatrixProductState.partial_trace_compress` \n",
    "and :func:`~quimb.approx_spectral_function` (see :ref:`Examples`).\n",
    "\n",
    "\n",
    "Matrix Product Operators\n",
    "------------------------\n",
    "\n",
    "The raw MPO class is :class:`~quimb.tensor.tensor_1d.MatrixProductOperator`, \n",
    "which shares many features with :class:`~quimb.tensor.tensor_1d.MatrixProductState`,\n",
    "but has both a ``MPO.upper_ind_id`` and a ``MPO.lower_ind_id``.\n",
    "\n",
    "Here we generate a random hermitian MPO and form a 'overlap' network with our MPS:"
   ]
  },
  {
   "cell_type": "code",
   "execution_count": 14,
   "metadata": {},
   "outputs": [
    {
     "data": {
      "image/png": "[encoded data removed]",
      "text/plain": [
       "<Figure size 432x432 with 1 Axes>"
      ]
     },
     "metadata": {},
     "output_type": "display_data"
    }
   ],
   "source": [
    "A = MPO_rand_herm(20, bond_dim=7, tags=['HAM'])\n",
    "pH = p.H\n",
    "\n",
    "# This modifies the indices of each to form overlap\n",
    "pH.align_(A, p)\n",
    "\n",
    "(pH & A & p).graph(color='HAM', iterations=1000)"
   ]
  },
  {
   "cell_type": "markdown",
   "metadata": {},
   "source": [
    "Compute the actual contraction (``...`` means contract everything, but use the structure if possible):"
   ]
  },
  {
   "cell_type": "code",
   "execution_count": 15,
   "metadata": {},
   "outputs": [
    {
     "data": {
      "text/plain": [
       "-7.283245730649152e-07"
      ]
     },
     "execution_count": 15,
     "metadata": {},
     "output_type": "execute_result"
    }
   ],
   "source": [
    "(pH & A & p) ^ ..."
   ]
  },
  {
   "cell_type": "raw",
   "metadata": {
    "raw_mimetype": "text/restructuredtext"
   },
   "source": [
    "Building Hamiltonians\n",
    "---------------------\n",
    "\n",
    "There a few built-in MPO hamiltoanians:\n",
    "\n",
    "* :class:`~quimb.tensor.tensor_gen.MPO_ham_heis`\n",
    "* :class:`~quimb.tensor.tensor_gen.MPO_ham_ising`\n",
    "* :class:`~quimb.tensor.tensor_gen.MPO_ham_XY`\n",
    "* :class:`~quimb.tensor.tensor_gen.MPO_ham_mbl`\n",
    "\n",
    "These all accept a ``cyclic`` argument to enable periodic boundary \n",
    "conditions (PBC), and a ``S`` argument to set the size of spin.\n",
    "\n",
    "For generating other spin Hamiltonians see \n",
    ":class:`~quimb.tensor.tensor_gen.SpinHam`, or consider using the raw \n",
    "constructor of :class:`~quimb.tensor.tensor_1d.MatrixProductOperator`.\n",
    "\n",
    "\n",
    "Quick DMRG2 Intro\n",
    "-----------------\n",
    "\n",
    "First we build a Hamiltonian term by term (though we could just use :class:`~quimb.tensor.tensor_gen.MPO_ham_heis`):"
   ]
  },
  {
   "cell_type": "code",
   "execution_count": 16,
   "metadata": {},
   "outputs": [],
   "source": [
    "builder = SpinHam(S=1)\n",
    "builder += 1/2, '+', '-'\n",
    "builder += 1/2, '-', '+'\n",
    "builder += 1, 'Z', 'Z'\n",
    "H = builder.build_mpo(n=100)"
   ]
  },
  {
   "cell_type": "raw",
   "metadata": {
    "raw_mimetype": "text/restructuredtext"
   },
   "source": [
    "Then we construct the 2-site DMRG object (:class:`~quimb.tensor.tensor_dmrg.DMRG2`), with the Hamiltonian MPO and a default sequence of maximum bond dimensions and a bond compression cutoff:"
   ]
  },
  {
   "cell_type": "code",
   "execution_count": 17,
   "metadata": {},
   "outputs": [],
   "source": [
    "dmrg = DMRG2(H, bond_dims=[10, 20, 100, 100, 200], cutoffs=1e-10)"
   ]
  },
  {
   "cell_type": "markdown",
   "metadata": {},
   "source": [
    "The ``DMRG`` object will automatically detect OBC/PBC. Now we can solve to a certain absolute energy tolerance, showing progress and a schematic of the final state:"
   ]
  },
  {
   "cell_type": "code",
   "execution_count": 18,
   "metadata": {},
   "outputs": [
    {
     "name": "stdout",
     "output_type": "stream",
     "text": [
      "SWEEP-1, direction=R, max_bond=10, cutoff:1e-10\n"
     ]
    },
    {
     "name": "stderr",
     "output_type": "stream",
     "text": [
      "100%|██████████████████████████████████████████| 99/99 [00:00<00:00, 100.75it/s]"
     ]
    },
    {
     "name": "stdout",
     "output_type": "stream",
     "text": [
      "Energy: -138.73101682053098 ... not converged.\n",
      "SWEEP-2, direction=R, max_bond=20, cutoff:1e-10\n"
     ]
    },
    {
     "name": "stderr",
     "output_type": "stream",
     "text": [
      "\n",
      "100%|██████████████████████████████████████████| 99/99 [00:00<00:00, 243.13it/s]"
     ]
    },
    {
     "name": "stdout",
     "output_type": "stream",
     "text": [
      "Energy: -138.93672615086277 ... not converged.\n",
      "SWEEP-3, direction=R, max_bond=100, cutoff:1e-10\n"
     ]
    },
    {
     "name": "stderr",
     "output_type": "stream",
     "text": [
      "\n",
      "100%|██████████████████████████████████████████| 99/99 [00:00<00:00, 118.97it/s]"
     ]
    },
    {
     "name": "stdout",
     "output_type": "stream",
     "text": [
      "Energy: -138.94004535412031 ... not converged.\n",
      "SWEEP-4, direction=R, max_bond=100, cutoff:1e-10\n"
     ]
    },
    {
     "name": "stderr",
     "output_type": "stream",
     "text": [
      "\n",
      "100%|███████████████████████████████████████████| 99/99 [00:01<00:00, 53.48it/s]"
     ]
    },
    {
     "name": "stdout",
     "output_type": "stream",
     "text": [
      "Energy: -138.94008547095757 ... not converged.\n",
      "SWEEP-5, direction=R, max_bond=200, cutoff:1e-10\n"
     ]
    },
    {
     "name": "stderr",
     "output_type": "stream",
     "text": [
      "\n",
      "100%|███████████████████████████████████████████| 99/99 [00:02<00:00, 34.42it/s]"
     ]
    },
    {
     "name": "stdout",
     "output_type": "stream",
     "text": [
      "Energy: -138.9400860609857 ... converged!\n"
     ]
    },
    {
     "name": "stderr",
     "output_type": "stream",
     "text": [
      "\n"
     ]
    },
    {
     "data": {
      "text/plain": [
       "True"
      ]
     },
     "execution_count": 18,
     "metadata": {},
     "output_type": "execute_result"
    }
   ],
   "source": [
    "dmrg.solve(tol=1e-6, verbosity=1)"
   ]
  },
  {
   "cell_type": "code",
   "execution_count": 19,
   "metadata": {},
   "outputs": [
    {
     "name": "stdout",
     "output_type": "stream",
     "text": [
      "     3 9 27 54 65 72 78 83 86 88 92 93 93 94 95 95 95 94 94 94 93 93 92 92 91 91     \n",
      "    >->->-->-->-->-->-->-->-->-->-->-->-->-->-->-->-->-->-->-->-->-->-->-->-->--> ...\n",
      "    | | |  |  |  |  |  |  |  |  |  |  |  |  |  |  |  |  |  |  |  |  |  |  |  |  |    \n",
      "                                     ...                                     \n",
      "    91 90 90 90 90 90 90 90 90 90 90 90 90 90 90 90 90 90 90 90 90 90 90 90 90 90    \n",
      "... -->-->-->-->-->-->-->-->-->-->-->-->-->-->-->-->-->-->-->-->-->-->-->-->-->-- ...\n",
      "      |  |  |  |  |  |  |  |  |  |  |  |  |  |  |  |  |  |  |  |  |  |  |  |  |      \n",
      "                                     ...                                     \n",
      "     90 90 90 90 90 90 90 90 90 90 90 90 90 90 90 90 90 90 90 90 90 90 90 92 93 9    \n",
      "... >-->-->-->-->-->-->-->-->-->-->-->-->-->-->-->-->-->-->-->-->-->-->-->-->-->- ...\n",
      "    |  |  |  |  |  |  |  |  |  |  |  |  |  |  |  |  |  |  |  |  |  |  |  |  |  |     \n",
      "                                     ...                                     \n",
      "    4 94 96 96 96 96 97 97 97 96 95 93 90 87 83 78 73 64 53 27 9 3 \n",
      "... ->-->-->-->-->-->-->-->-->-->-->-->-->-->-->-->-->-->-->-->->-o\n",
      "     |  |  |  |  |  |  |  |  |  |  |  |  |  |  |  |  |  |  |  | | |\n"
     ]
    }
   ],
   "source": [
    "dmrg.state.show()"
   ]
  },
  {
   "cell_type": "raw",
   "metadata": {
    "raw_mimetype": "text/restructuredtext"
   },
   "source": [
    "There are many options stored in the dict ``DMRG.opts`` - an explanation of each of \n",
    "these is given in :func:`~quimb.tensor.tensor_dmrg.get_default_opts`, and it may be \n",
    "necessary to tweak these to achieve the best performance/accuracy, especially for \n",
    "PBC (see :ref:`examples`).\n",
    "\n",
    ".. note:: Performance Tips\n",
    "    :class: quimbnote\n",
    "\n",
    "    1. Make sure numpy is linked to a fast BLAS (e.g. MKL version that comes with conda).\n",
    "    2. Install slepc4py, to use as the iterative eigensolver, it's faster than scipy.\n",
    "    3. If the hamiltonian is real, compile and use a real version of SLEPC \n",
    "       (set the environment variable PETSC_ARCH before launch).\n",
    "    4. Periodic systems are in some ways easier to solve if *longer*, since this \n",
    "       reduces correlations the 'long way round'.\n",
    "       \n",
    "       \n",
    "Quick TEBD Intro\n",
    "----------------\n",
    "\n",
    "Time Evolving Block Decimation (:class:`~quimb.tensor.tensor_tebd.TEBD`) requires not a \n",
    "MPO but the nearest neighbour interaction (NNI) term(s) of a Hamiltonian.\n",
    "This is encapsulated in the :class:`~quimb.tensor.tensor_tebd.NNI` object, which is\n",
    "initialized with the sum of two site terms ``H2`` and one-site terms (if any), ``H1``.\n",
    "\n",
    ":class:`~quimb.tensor.tensor_tebd.NNI` objects can also be built directly \n",
    "from a :class:`~quimb.tensor.tensor_gen.SpinHam` instance\n",
    "using the :meth:`~quimb.tensor.tensor_gen.SpinHam.build_nni` method.\n",
    "There are also the following built-in NNI Hamiltonians:\n",
    "\n",
    "* :class:`~quimb.tensor.tensor_gen.NNI_ham_heis`\n",
    "* :class:`~quimb.tensor.tensor_gen.NNI_ham_ising`\n",
    "* :class:`~quimb.tensor.tensor_gen.NNI_ham_XY`\n",
    "\n",
    "Here we build a NNI :class:`~quimb.tensor.tensor_tebd.NNI` using a \n",
    "``SpinHam``:"
   ]
  },
  {
   "cell_type": "code",
   "execution_count": 20,
   "metadata": {},
   "outputs": [
    {
     "data": {
      "text/plain": [
       "matrix([[ 0.2,  0. ,  0. ,  0. ],\n",
       "        [ 0. , -0.3,  0.5,  0. ],\n",
       "        [ 0. ,  0.5, -0.2,  0. ],\n",
       "        [ 0. ,  0. ,  0. ,  0.3]])"
      ]
     },
     "execution_count": 20,
     "metadata": {},
     "output_type": "execute_result"
    }
   ],
   "source": [
    "builder = SpinHam(S=1 / 2)\n",
    "builder.add_term(1.0, 'Z', 'Z')\n",
    "builder.add_term(0.9, 'Y', 'Y')\n",
    "builder.add_term(0.8, 'X', 'X')\n",
    "builder.add_term(0.6, 'Z')\n",
    "\n",
    "H = NNI_ham_heis(20, bz=0.1)\n",
    "\n",
    "# check the two site term\n",
    "H()"
   ]
  },
  {
   "cell_type": "raw",
   "metadata": {
    "raw_mimetype": "text/restructuredtext"
   },
   "source": [
    "Then we set up an initial state and the :class:`~quimb.tensor.tensor_tebd.TEBD` object itself -\n",
    "which mimics the general api of :class:`quimb.Evolution`:"
   ]
  },
  {
   "cell_type": "code",
   "execution_count": 21,
   "metadata": {},
   "outputs": [],
   "source": [
    "psi0 = MPS_neel_state(20)\n",
    "tebd = TEBD(psi0, H)"
   ]
  },
  {
   "cell_type": "markdown",
   "metadata": {},
   "source": [
    "Now we are ready to evolve. By setting a ``tol``, the required timestep ``dt`` is computed for us:"
   ]
  },
  {
   "cell_type": "code",
   "execution_count": 22,
   "metadata": {},
   "outputs": [
    {
     "name": "stderr",
     "output_type": "stream",
     "text": [
      "t=3, max-bond=34: 100%|██████████| 100/100 [00:03<00:00, 19.14%/s]    \n"
     ]
    }
   ],
   "source": [
    "tebd.update_to(T=3, tol=1e-3)"
   ]
  },
  {
   "cell_type": "markdown",
   "metadata": {},
   "source": [
    "After the evolution we can see that entanglement has been generated throughout the chain:"
   ]
  },
  {
   "cell_type": "code",
   "execution_count": 23,
   "metadata": {},
   "outputs": [
    {
     "name": "stdout",
     "output_type": "stream",
     "text": [
      " 2 4 8 16 29 34 33 34 33 34 33 34 33 34 29 16 8 4 2 \n",
      ">->->->-->-->-->-->-->-->-->-->-->-->-->-->-->->->-o\n",
      "| | | |  |  |  |  |  |  |  |  |  |  |  |  |  | | | |\n"
     ]
    }
   ],
   "source": [
    "tebd.pt.show()"
   ]
  },
  {
   "cell_type": "raw",
   "metadata": {
    "raw_mimetype": "text/restructuredtext"
   },
   "source": [
    "A more complete demonstration can be found in the :ref:`examples`."
   ]
  }
 ],
 "metadata": {
  "celltoolbar": "Raw Cell Format",
  "kernel_info": {
   "name": "python3"
  },
  "kernelspec": {
   "display_name": "Python [default]",
   "language": "python",
   "name": "python3"
  },
  "language_info": {
   "codemirror_mode": {
    "name": "ipython",
    "version": 3
   },
   "file_extension": ".py",
   "mimetype": "text/x-python",
   "name": "python",
   "nbconvert_exporter": "python",
   "pygments_lexer": "ipython3",
   "version": "3.6.6"
  }
 },
 "nbformat": 4,
 "nbformat_minor": 2
}
